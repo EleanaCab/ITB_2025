{
  "cells": [
    {
      "cell_type": "markdown",
      "metadata": {},
      "source": [
        "---\n",
        "title: \"OSCER and BASH, BASH and OSCER\"\n",
        "author: \n",
        "  - name: Eleana Cabello\n",
        "description: \"\"\n",
        "date: 2025-06-02\n",
        "---\n",
        "\n",
        "\n",
        "To navigate through the OSCER system you will have to use bash commands. Below are the most often I use:\n",
        "\n",
        "\n",
        "```{bash}\n",
        "#| echo: fenced\n",
        "ls\n",
        "```\n",
        "\n",
        "\n",
        "```{{bash}}\n",
        "cd\n",
        "```"
      ],
      "id": "41e87194"
    }
  ],
  "metadata": {
    "kernelspec": {
      "display_name": "Python 3",
      "language": "python",
      "name": "python3"
    }
  },
  "nbformat": 4,
  "nbformat_minor": 5
}